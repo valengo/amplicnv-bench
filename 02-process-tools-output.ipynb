{
 "cells": [
  {
   "cell_type": "markdown",
   "source": [
    "# Parsing CNV calls"
   ],
   "metadata": {
    "collapsed": false,
    "pycharm": {
     "name": "#%% md\n"
    }
   }
  },
  {
   "cell_type": "code",
   "execution_count": 1,
   "outputs": [],
   "source": [
    "import pandas as pd"
   ],
   "metadata": {
    "collapsed": false,
    "pycharm": {
     "name": "#%%\n"
    }
   }
  },
  {
   "cell_type": "markdown",
   "source": [
    "## CNVkit"
   ],
   "metadata": {
    "collapsed": false,
    "pycharm": {
     "name": "#%% md\n"
    }
   }
  },
  {
   "cell_type": "code",
   "execution_count": 2,
   "outputs": [],
   "source": [
    "cnvkit_table = pd.read_table('CNV-detection-pipeline-1.0/results/cnvkit/NA24385/NA24385.call.cns')\n",
    "# select copy losses\n",
    "cnvkit_selected = cnvkit_table[cnvkit_table['cn'] < 2]\n",
    "cnvkit_columns = ['chromosome', 'start', 'end']\n",
    "cnvkit_selected[cnvkit_columns].to_csv('results/cnvkit.losses.bed', sep='\\t', index=False, header=False)"
   ],
   "metadata": {
    "collapsed": false,
    "pycharm": {
     "name": "#%%\n"
    }
   }
  },
  {
   "cell_type": "markdown",
   "metadata": {
    "collapsed": true,
    "pycharm": {
     "name": "#%% md\n"
    }
   },
   "source": [
    "## CNVpytor"
   ]
  },
  {
   "cell_type": "code",
   "execution_count": 3,
   "outputs": [],
   "source": [
    "cnvpytor_table = pd.read_table('CNV-detection-pipeline-1.0/results/cnvpytor/NA24385/NA24385_cnvs.csv',\n",
    "                               header=None, names=['type', 'region', 'size', 'level',\n",
    "                                                   'e-val1', 'e-val2', 'e-val3', 'e-val4', 'q0', 'pN', 'dG'])\n",
    "cnvpytor_columns = ['chrom', 'start', 'end']\n",
    "cnvpytor_table[cnvpytor_columns] = cnvpytor_table.apply(\n",
    "    lambda row: [row['region'].split(':')[0]] + row['region'].split(':')[-1].split('-'), axis=1, result_type='expand')\n",
    "# select copy losses\n",
    "cnvpytor_selected = cnvpytor_table[cnvpytor_table['type'] == 'deletion']\n",
    "cnvpytor_selected[cnvpytor_columns].to_csv('results/cnvpytor.losses.bed', sep='\\t', index=False, header=False)"
   ],
   "metadata": {
    "collapsed": false,
    "pycharm": {
     "name": "#%%\n"
    }
   }
  },
  {
   "cell_type": "markdown",
   "source": [
    "## ExomeDepth"
   ],
   "metadata": {
    "collapsed": false,
    "pycharm": {
     "name": "#%% md\n"
    }
   }
  },
  {
   "cell_type": "code",
   "execution_count": 4,
   "outputs": [],
   "source": [
    "exomedepth_table = pd.read_csv('CNV-detection-pipeline-1.0/results/exomedepth/NA24385/NA24385_cnvs.csv')\n",
    "# select copy losses\n",
    "exomedepth_selected = exomedepth_table[exomedepth_table['type'] == 'deletion']\n",
    "exomedepth_columns = ['chromosome', 'start', 'end']\n",
    "exomedepth_selected[exomedepth_columns].to_csv('results/exomedepth.losses.bed', sep='\\t', index=False, header=False)"
   ],
   "metadata": {
    "collapsed": false,
    "pycharm": {
     "name": "#%%\n"
    }
   }
  },
  {
   "cell_type": "markdown",
   "source": [
    "## ampliCNV"
   ],
   "metadata": {
    "collapsed": false,
    "pycharm": {
     "name": "#%% md\n"
    }
   }
  },
  {
   "cell_type": "code",
   "execution_count": 5,
   "outputs": [],
   "source": [
    "amplicnv_table = pd.read_table('ampliCNV/HG002_NA24385/tables/bam-vcf/cnvfrombam.csv')\n",
    "# select copy losses\n",
    "amplicnv_selected = amplicnv_table[amplicnv_table['call'] == 'loss']\n",
    "amplicnv_columns = ['chrom', 'chromStart', 'chromEnd']\n",
    "amplicnv_selected[amplicnv_columns].to_csv('results/amplicnv.losses.bed', sep='\\t', index=False, header=False)"
   ],
   "metadata": {
    "collapsed": false,
    "pycharm": {
     "name": "#%%\n"
    }
   }
  }
 ],
 "metadata": {
  "kernelspec": {
   "display_name": "Python 3",
   "language": "python",
   "name": "python3"
  },
  "language_info": {
   "codemirror_mode": {
    "name": "ipython",
    "version": 2
   },
   "file_extension": ".py",
   "mimetype": "text/x-python",
   "name": "python",
   "nbconvert_exporter": "python",
   "pygments_lexer": "ipython2",
   "version": "2.7.6"
  }
 },
 "nbformat": 4,
 "nbformat_minor": 0
}