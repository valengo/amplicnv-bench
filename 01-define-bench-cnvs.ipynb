{
 "cells": [
  {
   "cell_type": "markdown",
   "source": [
    "# Definition of the benchmark CNVs\n",
    "CNVs used during performance evaluation were derived from the Tier 1 GIAB gold standard of structural variants (SV)\n",
    "available for HG002 on GRCh37<sup>1</sup>.\n",
    "The `scripts` folder under this repository holds the code used to download SV and exome sequencing data.\n",
    "\n",
    "Our goal is to obtain from the HG002 SV Tier 1 benchmark a set of high confidence CNVs\n",
    "overlapping the intervals targeted during exome sequencing.\n",
    "Thus, we also need the BED file describing the exome targets.\n",
    "In our case, considering the Ion AmpliSeq™ Exome Panel, this file is`AmpliSeqExome.20141113.designed.bed`\n",
    "and it can be obtained on [Ion Ampliseq Designer's website](https://ampliseq.com/login/login.action).\n",
    "\n",
    "## Write variants to a tabular format\n",
    "After unzipping the file with gunzip, we're extracting the VCF fields needed to create a BED file describing\n",
    "the regions encompassed by insertions and deletions\n",
    "using [GATK's VariantToTable command](https://gatk.broadinstitute.org/hc/en-us/articles/360036896892-VariantsToTable):"
   ],
   "metadata": {
    "collapsed": false,
    "pycharm": {
     "name": "#%% md\n"
    }
   }
  },
  {
   "cell_type": "code",
   "execution_count": 8,
   "metadata": {
    "collapsed": true
   },
   "outputs": [],
   "source": [
    "%%capture\n",
    "!gunzip --keep -c resources/GIAB-HG002-SV/HG002_SVs_Tier1_v0.6.vcf.gz > resources/GIAB-HG002-SV/HG002_SVs_Tier1_v0.6.vcf\n",
    "!gatk VariantsToTable -V resources/GIAB-HG002-SV/HG002_SVs_Tier1_v0.6.vcf \\\n",
    "    -F CHROM -F POS -F TYPE -F SVTYPE -F REF -F ALT -F FILTER --show-filtered \\\n",
    "    -O results/HG002_SVs_Tier1_v0.6.vcf.table"
   ]
  },
  {
   "cell_type": "markdown",
   "source": [
    "## Create a BED file for deletions"
   ],
   "metadata": {
    "collapsed": false,
    "pycharm": {
     "name": "#%% md\n"
    }
   }
  },
  {
   "cell_type": "code",
   "execution_count": 9,
   "outputs": [],
   "source": [
    "import pandas as pd\n",
    "sv_table = pd.read_table('results/HG002_SVs_Tier1_v0.6.vcf.table')\n",
    "# Derive 0-based position from 1-based POS field\n",
    "sv_table['start'] = sv_table['POS'] - 1\n",
    "# Compute variant size considering the max length between reference and alternative alleles\n",
    "sv_table['len'] = sv_table.apply(lambda row: max(len(row['REF']), len(row['ALT'])), axis=1)\n",
    "# Compute variant stop position\n",
    "sv_table['stop'] = sv_table['start'] + sv_table['len']\n",
    "# Add 'chr' to chromosome names\n",
    "sv_table['chromosome'] = 'chr' + sv_table['CHROM']\n",
    "# Select variants of high confidence (filter=PASS), longer than 1000 bp and of type deletion\n",
    "selected = sv_table[(sv_table['FILTER'] == 'PASS') & (sv_table['len'] > 1000) & (sv_table['SVTYPE'] == 'DEL')]\n",
    "# Save chromosome, start, stop, and SVTYPE to a tabular file\n",
    "selected[['chromosome', 'start', 'stop', 'SVTYPE']].to_csv(f'results/HG002_SVs_Tier1_v0.6.vcf.del.bed',\n",
    "                                                           sep='\\t', index=False, header=False)"
   ],
   "metadata": {
    "collapsed": false,
    "pycharm": {
     "name": "#%%\n"
    }
   }
  },
  {
   "cell_type": "markdown",
   "source": [
    "## Retain exome targets that are overlapped by deletions"
   ],
   "metadata": {
    "collapsed": false,
    "pycharm": {
     "name": "#%% md\n"
    }
   }
  },
  {
   "cell_type": "code",
   "execution_count": 12,
   "outputs": [],
   "source": [
    "!bedtools intersect -a resources/AmpliseqExome/AmpliSeqExome.20141113.designed.bed \\\n",
    "    -b results/HG002_SVs_Tier1_v0.6.vcf.del.bed > results/AmpliSeqExome.20141113.intersected.giab.del.bed\n",
    "!python CNV-detection-pipeline-1.0/workflow/scripts/create_intervals_with_genes_file.py \\\n",
    "    --input results/AmpliSeqExome.20141113.intersected.giab.del.bed \\\n",
    "    --output results/AmpliSeqExome.20141113.intersected.giab.del.genes.bed"
   ],
   "metadata": {
    "collapsed": false,
    "pycharm": {
     "name": "#%%\n"
    }
   }
  },
  {
   "cell_type": "markdown",
   "source": [
    "## Group exome targets by gene"
   ],
   "metadata": {
    "collapsed": false,
    "pycharm": {
     "name": "#%% md\n"
    }
   }
  },
  {
   "cell_type": "code",
   "execution_count": 21,
   "outputs": [],
   "source": [
    "columns =['chrom', 'start', 'end', 'gene']\n",
    "target_table = pd.read_table('results/AmpliSeqExome.20141113.intersected.giab.del.genes.bed',\n",
    "                             header=None, names=columns)\n",
    "targets_by_genes = target_table.groupby('gene').apply(\n",
    "    lambda group: pd.Series({'chrom': group['chrom'].iloc[0],\n",
    "                             'start': group['start'].min(),\n",
    "                             'end': group['end'].max(),\n",
    "                             'gene': group['gene'].iloc[0]}))\n",
    "targets_by_genes[columns].to_csv('results/AmpliSeqExome.20141113.intersected.giab.del.genes.grouped.bed',\n",
    "                        sep='\\t', index=False, header=False)"
   ],
   "metadata": {
    "collapsed": false,
    "pycharm": {
     "name": "#%%\n"
    }
   }
  },
  {
   "cell_type": "markdown",
   "source": [
    "# References\n",
    "1. Zook JM, Hansen NF, Olson ND, Chapman L, Mullikin JC, Xiao C, Sherry S, Koren S, Phillippy AM, Boutros PC, Sahraeian SME, Huang V, Rouette A, Alexander N, Mason CE, Hajirasouliha I, Ricketts C, Lee J, Tearle R, Fiddes IT, Barrio AM, Wala J, Carroll A, Ghaffari N, Rodriguez OL, Bashir A, Jackman S, Farrell JJ, Wenger AM, Alkan C, Soylev A, Schatz MC, Garg S, Church G, Marschall T, Chen K, Fan X, English AC, Rosenfeld JA, Zhou W, Mills RE, Sage JM, Davis JR, Kaiser MD, Oliver JS, Catalano AP, Chaisson MJP, Spies N, Sedlazeck FJ, Salit M. A robust benchmark for detection of germline large deletions and insertions. Nat Biotechnol. 2020 Nov;38(11):1347-1355. doi: 10.1038/s41587-020-0538-8. Epub 2020 Jun 15. Erratum in: Nat Biotechnol. 2020 Jul 22;: PMID: 32541955.\n",
    "\n"
   ],
   "metadata": {
    "collapsed": false,
    "pycharm": {
     "name": "#%% md\n"
    }
   }
  }
 ],
 "metadata": {
  "kernelspec": {
   "display_name": "Python 3",
   "language": "python",
   "name": "python3"
  },
  "language_info": {
   "codemirror_mode": {
    "name": "ipython",
    "version": 2
   },
   "file_extension": ".py",
   "mimetype": "text/x-python",
   "name": "python",
   "nbconvert_exporter": "python",
   "pygments_lexer": "ipython2",
   "version": "2.7.6"
  }
 },
 "nbformat": 4,
 "nbformat_minor": 0
}