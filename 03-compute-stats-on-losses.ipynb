{
 "cells": [
  {
   "cell_type": "markdown",
   "source": [
    "# Stats on copy number losses detected in comparison to the gold standard"
   ],
   "metadata": {
    "collapsed": false,
    "pycharm": {
     "name": "#%% md\n"
    }
   }
  },
  {
   "cell_type": "markdown",
   "source": [
    "## Load packages"
   ],
   "metadata": {
    "collapsed": false,
    "pycharm": {
     "name": "#%% md\n"
    }
   }
  },
  {
   "cell_type": "code",
   "execution_count": 1,
   "metadata": {
    "collapsed": true
   },
   "outputs": [],
   "source": [
    "import pandas as pd\n",
    "from pybedtools import BedTool"
   ]
  },
  {
   "cell_type": "markdown",
   "source": [
    "## Load parsed copy number losses detected by the tools"
   ],
   "metadata": {
    "collapsed": false,
    "pycharm": {
     "name": "#%% md\n"
    }
   }
  },
  {
   "cell_type": "code",
   "execution_count": 2,
   "outputs": [],
   "source": [
    "columns = ['chrom', 'start', 'end']\n",
    "cnvkit_table = pd.read_table('results/cnvkit.losses.bed', header=None, names=columns)\n",
    "cnvpytor_table = pd.read_table('results/cnvpytor.losses.bed', header=None, names=columns)\n",
    "exomedepth_table = pd.read_table('results/exomedepth.losses.bed', header=None, names=columns)\n",
    "amplicnv_table = pd.read_table('results/amplicnv.losses.bed', header=None, names=columns)\n"
   ],
   "metadata": {
    "collapsed": false,
    "pycharm": {
     "name": "#%%\n"
    }
   }
  },
  {
   "cell_type": "markdown",
   "source": [
    "## Load benchmark copy losses"
   ],
   "metadata": {
    "collapsed": false
   }
  },
  {
   "cell_type": "code",
   "execution_count": 3,
   "outputs": [],
   "source": [
    "benchmark_table = pd.read_table('results/AmpliSeqExome.20141113.intersected.giab.del.genes.grouped.bed',\n",
    "                                header=None, names=columns + ['gene'])\n"
   ],
   "metadata": {
    "collapsed": false,
    "pycharm": {
     "name": "#%%\n"
    }
   }
  },
  {
   "cell_type": "markdown",
   "source": [
    "## Compute overlap by gene for each tool output"
   ],
   "metadata": {
    "collapsed": false,
    "pycharm": {
     "name": "#%% md\n"
    }
   }
  },
  {
   "cell_type": "markdown",
   "source": [
    "### Function to compute benchmark copy number losses' coverage in a given bed"
   ],
   "metadata": {
    "collapsed": false
   }
  },
  {
   "cell_type": "code",
   "execution_count": 4,
   "outputs": [],
   "source": [
    "def compute_coverage(benchmark: pd.DataFrame, tool_table: pd.DataFrame):\n",
    "    a = BedTool(benchmark.to_string(header=False, index=False, index_names=False), from_string=True)\n",
    "    b = BedTool(tool_table.to_string(header=False, index=False, index_names=False), from_string=True)\n",
    "    names = ['chrom', 'start', 'end', 'gene', 'overlaps', '# covered bases', 'length', 'fraction']\n",
    "    coverage = a.coverage(b).to_dataframe(disable_auto_names=True, names=names).sort_values(['chrom', 'start'])\n",
    "    return coverage.set_index(['chrom', 'start', 'end'])"
   ],
   "metadata": {
    "collapsed": false,
    "pycharm": {
     "name": "#%%\n"
    }
   }
  },
  {
   "cell_type": "markdown",
   "source": [
    "### Compute benchmark coverage for each tool"
   ],
   "metadata": {
    "collapsed": false,
    "pycharm": {
     "name": "#%% md\n"
    }
   }
  },
  {
   "cell_type": "code",
   "execution_count": 5,
   "outputs": [],
   "source": [
    "cnvkit_cov = compute_coverage(benchmark_table, cnvkit_table)\n",
    "cnvpytor_cov = compute_coverage(benchmark_table, cnvpytor_table)\n",
    "exomedepth_cov = compute_coverage(benchmark_table, exomedepth_table)\n",
    "amplicnv_cov = compute_coverage(benchmark_table, amplicnv_table)"
   ],
   "metadata": {
    "collapsed": false,
    "pycharm": {
     "name": "#%%\n"
    }
   }
  },
  {
   "cell_type": "code",
   "execution_count": 6,
   "outputs": [
    {
     "name": "stdout",
     "output_type": "stream",
     "text": [
      "                               gene  cnvkit  cnvpytor  exomedepth  amplicnv\n",
      "chrom start     end                                                        \n",
      "chr1  89476409  89477767       GBP3       0         0           1         0\n",
      "      108735110 108735337  SLC25A24       0         1           1         1\n",
      "      145096464 145096695    SEC22B       0         0           0         0\n",
      "      152573151 152573551     LCE3C       0         0           0         0\n",
      "      152586175 152586709     LCE3B       0         0           0         0\n",
      "chr11 4967379   4968456      OR51A4       0         0           0         0\n",
      "chr12 53086335  53086754      KRT77       0         0           1         0\n",
      "chr5  140222137 140223359    PCDHA8       0         0           1         1\n",
      "      140227897 140230614    PCDHA9       0         0           1         1\n",
      "      140235620 140238199   PCDHA10       0         0           1         1\n",
      "      147553752 147554778   SPINK14       0         1           0         0\n",
      "chr7  100331710 100336290       ZAN       0         0           1         1\n",
      "      142829130 142836779       PIP       0         1           1         1\n",
      "      142880312 142881546   TAS2R39       0         0           1         1\n"
     ]
    }
   ],
   "source": [
    "all_tools_cov = pd.concat([\n",
    "    cnvkit_cov[['gene', 'overlaps']],\n",
    "    cnvpytor_cov['overlaps'],\n",
    "    exomedepth_cov['overlaps'],\n",
    "    amplicnv_cov['overlaps']\n",
    "], axis=1)\n",
    "all_tools_cov.columns = ['gene', 'cnvkit', 'cnvpytor', 'exomedepth', 'amplicnv']\n",
    "print(all_tools_cov.head(len(all_tools_cov)))"
   ],
   "metadata": {
    "collapsed": false,
    "pycharm": {
     "name": "#%%\n"
    }
   }
  },
  {
   "cell_type": "markdown",
   "source": [
    "## Retain losses on autosomal chromosomes only"
   ],
   "metadata": {
    "collapsed": false
   }
  },
  {
   "cell_type": "code",
   "execution_count": 7,
   "outputs": [],
   "source": [
    "sex_chromosomes = ['chrX', 'chrY']\n",
    "cnvkit_table = cnvkit_table[~cnvkit_table['chrom'].isin(sex_chromosomes)]\n",
    "cnvpytor_table = cnvpytor_table[~cnvpytor_table['chrom'].isin(sex_chromosomes)]\n",
    "exomedepth_table = exomedepth_table[~exomedepth_table['chrom'].isin(sex_chromosomes)]\n",
    "amplicnv_table = amplicnv_table[~amplicnv_table['chrom'].isin(sex_chromosomes)]"
   ],
   "metadata": {
    "collapsed": false,
    "pycharm": {
     "name": "#%%\n"
    }
   }
  },
  {
   "cell_type": "markdown",
   "source": [
    "## Count the number of detected losses by tool"
   ],
   "metadata": {
    "collapsed": false
   }
  },
  {
   "cell_type": "code",
   "execution_count": 8,
   "outputs": [
    {
     "name": "stdout",
     "output_type": "stream",
     "text": [
      "cnvkit: 0\n",
      "cnvpytor: 13050\n",
      "exomedepth: 312\n",
      "amplicnv: 395\n"
     ]
    }
   ],
   "source": [
    "print(f'cnvkit: {len(cnvkit_table)}')\n",
    "print(f'cnvpytor: {len(cnvpytor_table)}')\n",
    "print(f'exomedepth: {len(exomedepth_table)}')\n",
    "print(f'amplicnv: {len(amplicnv_table)}')"
   ],
   "metadata": {
    "collapsed": false,
    "pycharm": {
     "name": "#%%\n"
    }
   }
  }
 ],
 "metadata": {
  "kernelspec": {
   "display_name": "Python 3",
   "language": "python",
   "name": "python3"
  },
  "language_info": {
   "codemirror_mode": {
    "name": "ipython",
    "version": 2
   },
   "file_extension": ".py",
   "mimetype": "text/x-python",
   "name": "python",
   "nbconvert_exporter": "python",
   "pygments_lexer": "ipython2",
   "version": "2.7.6"
  }
 },
 "nbformat": 4,
 "nbformat_minor": 0
}